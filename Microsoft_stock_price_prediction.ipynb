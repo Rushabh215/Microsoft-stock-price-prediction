{
  "nbformat": 4,
  "nbformat_minor": 0,
  "metadata": {
    "colab": {
      "name": "Microsoft stock price prediction.ipynb",
      "provenance": [],
      "collapsed_sections": []
    },
    "kernelspec": {
      "name": "python3",
      "display_name": "Python 3"
    },
    "language_info": {
      "name": "python"
    }
  },
  "cells": [
    {
      "cell_type": "code",
      "metadata": {
        "id": "8_v_ymrROtuD"
      },
      "source": [
        "import numpy as np\n",
        "import pandas as pd\n",
        "import matplotlib.pyplot as plt"
      ],
      "execution_count": 5,
      "outputs": []
    },
    {
      "cell_type": "code",
      "metadata": {
        "id": "Jhij7GILPFil"
      },
      "source": [
        "data = pd.read_csv(\"MSFT.csv\")"
      ],
      "execution_count": 27,
      "outputs": []
    },
    {
      "cell_type": "code",
      "metadata": {
        "colab": {
          "base_uri": "https://localhost:8080/",
          "height": 204
        },
        "id": "npAFcFijCD35",
        "outputId": "d83355c1-9e8b-4850-bf67-5b51b151a319"
      },
      "source": [
        "data.head()"
      ],
      "execution_count": 28,
      "outputs": [
        {
          "output_type": "execute_result",
          "data": {
            "text/html": [
              "<div>\n",
              "<style scoped>\n",
              "    .dataframe tbody tr th:only-of-type {\n",
              "        vertical-align: middle;\n",
              "    }\n",
              "\n",
              "    .dataframe tbody tr th {\n",
              "        vertical-align: top;\n",
              "    }\n",
              "\n",
              "    .dataframe thead th {\n",
              "        text-align: right;\n",
              "    }\n",
              "</style>\n",
              "<table border=\"1\" class=\"dataframe\">\n",
              "  <thead>\n",
              "    <tr style=\"text-align: right;\">\n",
              "      <th></th>\n",
              "      <th>Date</th>\n",
              "      <th>Open</th>\n",
              "      <th>High</th>\n",
              "      <th>Low</th>\n",
              "      <th>Close</th>\n",
              "      <th>Adj Close</th>\n",
              "      <th>Volume</th>\n",
              "    </tr>\n",
              "  </thead>\n",
              "  <tbody>\n",
              "    <tr>\n",
              "      <th>0</th>\n",
              "      <td>2020-07-06</td>\n",
              "      <td>208.830002</td>\n",
              "      <td>211.130005</td>\n",
              "      <td>208.089996</td>\n",
              "      <td>210.699997</td>\n",
              "      <td>208.679443</td>\n",
              "      <td>31897600</td>\n",
              "    </tr>\n",
              "    <tr>\n",
              "      <th>1</th>\n",
              "      <td>2020-07-07</td>\n",
              "      <td>210.449997</td>\n",
              "      <td>214.669998</td>\n",
              "      <td>207.990005</td>\n",
              "      <td>208.250000</td>\n",
              "      <td>206.252930</td>\n",
              "      <td>33600700</td>\n",
              "    </tr>\n",
              "    <tr>\n",
              "      <th>2</th>\n",
              "      <td>2020-07-08</td>\n",
              "      <td>210.070007</td>\n",
              "      <td>213.259995</td>\n",
              "      <td>208.690002</td>\n",
              "      <td>212.830002</td>\n",
              "      <td>210.789032</td>\n",
              "      <td>33600000</td>\n",
              "    </tr>\n",
              "    <tr>\n",
              "      <th>3</th>\n",
              "      <td>2020-07-09</td>\n",
              "      <td>216.330002</td>\n",
              "      <td>216.380005</td>\n",
              "      <td>211.470001</td>\n",
              "      <td>214.320007</td>\n",
              "      <td>212.264740</td>\n",
              "      <td>33121700</td>\n",
              "    </tr>\n",
              "    <tr>\n",
              "      <th>4</th>\n",
              "      <td>2020-07-10</td>\n",
              "      <td>213.619995</td>\n",
              "      <td>214.080002</td>\n",
              "      <td>211.080002</td>\n",
              "      <td>213.669998</td>\n",
              "      <td>211.620972</td>\n",
              "      <td>26177600</td>\n",
              "    </tr>\n",
              "  </tbody>\n",
              "</table>\n",
              "</div>"
            ],
            "text/plain": [
              "         Date        Open        High  ...       Close   Adj Close    Volume\n",
              "0  2020-07-06  208.830002  211.130005  ...  210.699997  208.679443  31897600\n",
              "1  2020-07-07  210.449997  214.669998  ...  208.250000  206.252930  33600700\n",
              "2  2020-07-08  210.070007  213.259995  ...  212.830002  210.789032  33600000\n",
              "3  2020-07-09  216.330002  216.380005  ...  214.320007  212.264740  33121700\n",
              "4  2020-07-10  213.619995  214.080002  ...  213.669998  211.620972  26177600\n",
              "\n",
              "[5 rows x 7 columns]"
            ]
          },
          "metadata": {
            "tags": []
          },
          "execution_count": 28
        }
      ]
    },
    {
      "cell_type": "code",
      "metadata": {
        "id": "gD-xgih2Cti2"
      },
      "source": [
        "x = data[['Open','High','Low']]\n",
        "y = data['Close']"
      ],
      "execution_count": 29,
      "outputs": []
    },
    {
      "cell_type": "code",
      "metadata": {
        "id": "kIAnzAWqDAYh"
      },
      "source": [
        "from sklearn.model_selection import train_test_split\n",
        "xtrain,xtest,ytrain,ytest = train_test_split(x,y,test_size=0.2, random_state=42)"
      ],
      "execution_count": 30,
      "outputs": []
    },
    {
      "cell_type": "code",
      "metadata": {
        "id": "yY4XNg5sDRob"
      },
      "source": [
        "from sklearn.tree import DecisionTreeRegressor\n",
        "model = DecisionTreeRegressor()"
      ],
      "execution_count": 31,
      "outputs": []
    },
    {
      "cell_type": "code",
      "metadata": {
        "colab": {
          "base_uri": "https://localhost:8080/"
        },
        "id": "kqyyqojTDeP_",
        "outputId": "e6008051-8cf2-4af6-dbc2-3a3e6e6bcc88"
      },
      "source": [
        "model.fit(xtrain,ytrain)"
      ],
      "execution_count": 32,
      "outputs": [
        {
          "output_type": "execute_result",
          "data": {
            "text/plain": [
              "DecisionTreeRegressor(ccp_alpha=0.0, criterion='mse', max_depth=None,\n",
              "                      max_features=None, max_leaf_nodes=None,\n",
              "                      min_impurity_decrease=0.0, min_impurity_split=None,\n",
              "                      min_samples_leaf=1, min_samples_split=2,\n",
              "                      min_weight_fraction_leaf=0.0, presort='deprecated',\n",
              "                      random_state=None, splitter='best')"
            ]
          },
          "metadata": {
            "tags": []
          },
          "execution_count": 32
        }
      ]
    },
    {
      "cell_type": "code",
      "metadata": {
        "id": "wO39PrRJDiHC"
      },
      "source": [
        "ypred = model.predict(xtest)"
      ],
      "execution_count": 33,
      "outputs": []
    },
    {
      "cell_type": "code",
      "metadata": {
        "colab": {
          "base_uri": "https://localhost:8080/"
        },
        "id": "B_i-nTbrDnd6",
        "outputId": "0f9ad7b8-22cb-4a7f-f1fa-8ade0f714263"
      },
      "source": [
        "ypred"
      ],
      "execution_count": 34,
      "outputs": [
        {
          "output_type": "execute_result",
          "data": {
            "text/plain": [
              "array([235.460007, 202.679993, 213.25    , 237.039993, 217.229996,\n",
              "       235.990005, 259.890015, 255.910004, 204.059998, 211.75    ,\n",
              "       208.779999, 245.169998, 249.899994, 236.940002, 214.889999,\n",
              "       242.199997, 259.890015, 204.059998, 212.940002, 214.130005,\n",
              "       216.440002, 202.470001, 219.660004, 220.860001, 213.860001,\n",
              "       259.429993, 237.039993, 245.710007, 209.190002, 233.270004,\n",
              "       231.600006, 214.070007, 221.020004, 203.380005, 249.679993,\n",
              "       206.190002, 216.470001, 201.300003, 255.589996, 235.240005,\n",
              "       211.490005, 214.649994, 243.789993, 239.649994, 202.539993,\n",
              "       231.850006, 204.059998, 210.330002, 232.419998, 237.039993,\n",
              "       218.389999])"
            ]
          },
          "metadata": {
            "tags": []
          },
          "execution_count": 34
        }
      ]
    },
    {
      "cell_type": "code",
      "metadata": {
        "id": "T800vnJkDpD0"
      },
      "source": [
        "df = pd.DataFrame(data = {\"Predicted Rate\": ypred})"
      ],
      "execution_count": 37,
      "outputs": []
    },
    {
      "cell_type": "code",
      "metadata": {
        "colab": {
          "base_uri": "https://localhost:8080/",
          "height": 204
        },
        "id": "88t4FG11D1bp",
        "outputId": "c39ffb39-bbd5-4104-87dd-ea5f723a48b6"
      },
      "source": [
        "df.head()"
      ],
      "execution_count": 38,
      "outputs": [
        {
          "output_type": "execute_result",
          "data": {
            "text/html": [
              "<div>\n",
              "<style scoped>\n",
              "    .dataframe tbody tr th:only-of-type {\n",
              "        vertical-align: middle;\n",
              "    }\n",
              "\n",
              "    .dataframe tbody tr th {\n",
              "        vertical-align: top;\n",
              "    }\n",
              "\n",
              "    .dataframe thead th {\n",
              "        text-align: right;\n",
              "    }\n",
              "</style>\n",
              "<table border=\"1\" class=\"dataframe\">\n",
              "  <thead>\n",
              "    <tr style=\"text-align: right;\">\n",
              "      <th></th>\n",
              "      <th>Predicted Rate</th>\n",
              "    </tr>\n",
              "  </thead>\n",
              "  <tbody>\n",
              "    <tr>\n",
              "      <th>0</th>\n",
              "      <td>235.460007</td>\n",
              "    </tr>\n",
              "    <tr>\n",
              "      <th>1</th>\n",
              "      <td>202.679993</td>\n",
              "    </tr>\n",
              "    <tr>\n",
              "      <th>2</th>\n",
              "      <td>213.250000</td>\n",
              "    </tr>\n",
              "    <tr>\n",
              "      <th>3</th>\n",
              "      <td>237.039993</td>\n",
              "    </tr>\n",
              "    <tr>\n",
              "      <th>4</th>\n",
              "      <td>217.229996</td>\n",
              "    </tr>\n",
              "  </tbody>\n",
              "</table>\n",
              "</div>"
            ],
            "text/plain": [
              "   Predicted Rate\n",
              "0      235.460007\n",
              "1      202.679993\n",
              "2      213.250000\n",
              "3      237.039993\n",
              "4      217.229996"
            ]
          },
          "metadata": {
            "tags": []
          },
          "execution_count": 38
        }
      ]
    }
  ]
}